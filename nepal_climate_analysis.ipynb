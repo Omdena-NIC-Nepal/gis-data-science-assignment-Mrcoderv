{
 "cells": [
  {
   "cell_type": "markdown",
   "metadata": {},
   "source": [
    "# Nepal Climate Change Analysis (2020-2050)\n",
    "\n",
    "This Jupyter Notebook analyzes climate change projections in Nepal, focusing on temperature variations, precipitation changes, river flow reductions, glacier retreat, and climate vulnerability using GIS data."
   ]
  },
  {
   "cell_type": "markdown",
   "metadata": {},
   "source": [
    "## 1. Required Libraries\n",
    "- `geopandas` for handling spatial data\n",
    "- `rasterio` for reading raster data\n",
    "- `numpy` for numerical operations\n",
    "- `matplotlib` for visualization\n",
    "- `rasterstats` for zonal statistics\n",
    "- `json` for reading metadata"
   ]
  },
  {
   "cell_type": "code",
   "execution_count": 42,
   "metadata": {},
   "outputs": [],
   "source": [
    "# Import necessary libraries\n",
    "import geopandas as gpd\n",
    "import rasterio\n",
    "import numpy as np\n",
    "import matplotlib.pyplot as plt\n",
    "from rasterstats import zonal_stats\n",
    "import json"
   ]
  },
  {
   "cell_type": "markdown",
   "metadata": {},
   "source": [
    "## 2. Load Dataset Metadata\n",
    "The dataset contains climate data for Nepal, covering temperature, precipitation, rivers, glaciers, and administrative regions."
   ]
  },
  {
   "cell_type": "code",
   "execution_count": 43,
   "metadata": {},
   "outputs": [
    {
     "name": "stdout",
     "output_type": "stream",
     "text": [
      "{\n",
      "    \"title\": \"Nepal Climate Change Synthetic Dataset\",\n",
      "    \"description\": \"Synthetic climate data for Nepal showing baseline (2020) and projected (2050) conditions\",\n",
      "    \"created_date\": \"2025-03-12\",\n",
      "    \"spatial_coverage\": \"Nepal (80.0, 26.3) to (88.2, 30.5)\",\n",
      "    \"temporal_coverage\": \"2020 (baseline) and 2050 (projection)\",\n",
      "    \"raster_resolution\": \"0.0205 degrees (~2.275500000000001km at equator)\",\n",
      "    \"projection\": \"EPSG:4326 (WGS84)\",\n",
      "    \"scenario\": \"Synthetic data approximating RCP4.5-like scenario\",\n",
      "    \"variables\": {\n",
      "        \"temperature\": \"Monthly average temperature in degrees Celsius\",\n",
      "        \"precipitation\": \"Monthly total precipitation in millimeters\",\n",
      "        \"admin_regions\": \"Administrative regions with climate vulnerability index\",\n",
      "        \"rivers\": \"Major river systems with projected flow changes\",\n",
      "        \"glaciers\": \"Glacier monitoring points with retreat rates\"\n",
      "    },\n",
      "    \"notes\": \"This is synthetic data for demonstration purposes. It should not be used for actual climate research or planning.\"\n",
      "}\n"
     ]
    }
   ],
   "source": [
    "# Load metadata\n",
    "with open(\"nepal_climate_data/metadata.json\", \"r\") as file:\n",
    "    metadata = json.load(file)\n",
    "print(json.dumps(metadata, indent=4))"
   ]
  },
  {
   "cell_type": "markdown",
   "metadata": {},
   "source": [
    "## 3. Load Administrative Regions Data\n",
    "We load the administrative boundaries of Nepal, which include a climate vulnerability index."
   ]
  },
  {
   "cell_type": "code",
   "execution_count": 44,
   "metadata": {},
   "outputs": [
    {
     "data": {
      "text/html": [
       "<div>\n",
       "<style scoped>\n",
       "    .dataframe tbody tr th:only-of-type {\n",
       "        vertical-align: middle;\n",
       "    }\n",
       "\n",
       "    .dataframe tbody tr th {\n",
       "        vertical-align: top;\n",
       "    }\n",
       "\n",
       "    .dataframe thead th {\n",
       "        text-align: right;\n",
       "    }\n",
       "</style>\n",
       "<table border=\"1\" class=\"dataframe\">\n",
       "  <thead>\n",
       "    <tr style=\"text-align: right;\">\n",
       "      <th></th>\n",
       "      <th>name</th>\n",
       "      <th>climate_vulnerability_2020</th>\n",
       "      <th>climate_vulnerability_2050</th>\n",
       "      <th>geometry</th>\n",
       "    </tr>\n",
       "  </thead>\n",
       "  <tbody>\n",
       "    <tr>\n",
       "      <th>0</th>\n",
       "      <td>Province 1</td>\n",
       "      <td>0.449816</td>\n",
       "      <td>0.656665</td>\n",
       "      <td>POLYGON ((87 26.5, 88 27, 87.8 28, 87 28.5, 86...</td>\n",
       "    </tr>\n",
       "    <tr>\n",
       "      <th>1</th>\n",
       "      <td>Province 2</td>\n",
       "      <td>0.680286</td>\n",
       "      <td>0.939022</td>\n",
       "      <td>POLYGON ((85 26.5, 87 26.5, 86.5 27.5, 85 27.2...</td>\n",
       "    </tr>\n",
       "    <tr>\n",
       "      <th>2</th>\n",
       "      <td>Bagmati</td>\n",
       "      <td>0.592798</td>\n",
       "      <td>0.837280</td>\n",
       "      <td>POLYGON ((85 27.2, 86.5 27.5, 86.2 28.5, 85 28...</td>\n",
       "    </tr>\n",
       "    <tr>\n",
       "      <th>3</th>\n",
       "      <td>Gandaki</td>\n",
       "      <td>0.539463</td>\n",
       "      <td>0.650687</td>\n",
       "      <td>POLYGON ((83.5 27.5, 85 27.2, 85 28.2, 84 29, ...</td>\n",
       "    </tr>\n",
       "    <tr>\n",
       "      <th>4</th>\n",
       "      <td>Lumbini</td>\n",
       "      <td>0.362407</td>\n",
       "      <td>0.540340</td>\n",
       "      <td>POLYGON ((82 27, 83.5 27.5, 83.5 28, 82.5 28.2...</td>\n",
       "    </tr>\n",
       "  </tbody>\n",
       "</table>\n",
       "</div>"
      ],
      "text/plain": [
       "         name  climate_vulnerability_2020  climate_vulnerability_2050  \\\n",
       "0  Province 1                    0.449816                    0.656665   \n",
       "1  Province 2                    0.680286                    0.939022   \n",
       "2     Bagmati                    0.592798                    0.837280   \n",
       "3     Gandaki                    0.539463                    0.650687   \n",
       "4     Lumbini                    0.362407                    0.540340   \n",
       "\n",
       "                                            geometry  \n",
       "0  POLYGON ((87 26.5, 88 27, 87.8 28, 87 28.5, 86...  \n",
       "1  POLYGON ((85 26.5, 87 26.5, 86.5 27.5, 85 27.2...  \n",
       "2  POLYGON ((85 27.2, 86.5 27.5, 86.2 28.5, 85 28...  \n",
       "3  POLYGON ((83.5 27.5, 85 27.2, 85 28.2, 84 29, ...  \n",
       "4  POLYGON ((82 27, 83.5 27.5, 83.5 28, 82.5 28.2...  "
      ]
     },
     "execution_count": 44,
     "metadata": {},
     "output_type": "execute_result"
    }
   ],
   "source": [
    "# Load administrative regions\n",
    "admin_regions = gpd.read_file(\"nepal_climate_data/nepal_admin_regions.gpkg\")\n",
    "admin_regions.head()"
   ]
  },
  {
   "cell_type": "markdown",
   "metadata": {},
   "source": [
    "## 4. Function to Process Raster Data\n",
    "This function reads a raster file, extracts its data, and computes the annual average."
   ]
  },
  {
   "cell_type": "code",
   "execution_count": 45,
   "metadata": {},
   "outputs": [],
   "source": [
    "def process_raster(raster_path):\n",
    "    with rasterio.open(raster_path) as src:\n",
    "        data = src.read()\n",
    "        annual_avg = np.mean(data, axis=0)\n",
    "        return annual_avg, src.transform"
   ]
  },
  {
   "cell_type": "markdown",
   "metadata": {},
   "source": [
    "## 5. Temperature Analysis (2020-2050)\n",
    "We analyze temperature data for 2020 and 2050, computing the projected changes."
   ]
  },
  {
   "cell_type": "code",
   "execution_count": 46,
   "metadata": {},
   "outputs": [],
   "source": [
    "# Process temperature data\n",
    "temp_2020, transform = process_raster(\"nepal_climate_data/nepal_temperature_2020.tif\")\n",
    "temp_2050, _ = process_raster(\"nepal_climate_data/nepal_temperature_2050.tif\")\n",
    "temp_diff = temp_2050 - temp_2020"
   ]
  },
  {
   "cell_type": "markdown",
   "metadata": {},
   "source": [
    "## 6. Precipitation Analysis (2020-2050)\n",
    "We compare total precipitation levels for 2020 and 2050."
   ]
  },
  {
   "cell_type": "code",
   "execution_count": 47,
   "metadata": {},
   "outputs": [],
   "source": [
    "# Process precipitation data\n",
    "precip_2020, _ = process_raster(\"nepal_climate_data/nepal_precipitation_2020.tif\")\n",
    "precip_2050, _ = process_raster(\"nepal_climate_data/nepal_precipitation_2050.tif\")\n",
    "precip_diff = precip_2050 - precip_2020"
   ]
  },
  {
   "cell_type": "markdown",
   "metadata": {},
   "source": [
    "## 7. River Flow Analysis\n",
    "We analyze projected flow reductions in Nepal's major rivers."
   ]
  },
  {
   "cell_type": "code",
   "execution_count": 48,
   "metadata": {},
   "outputs": [
    {
     "data": {
      "text/html": [
       "<div>\n",
       "<style scoped>\n",
       "    .dataframe tbody tr th:only-of-type {\n",
       "        vertical-align: middle;\n",
       "    }\n",
       "\n",
       "    .dataframe tbody tr th {\n",
       "        vertical-align: top;\n",
       "    }\n",
       "\n",
       "    .dataframe thead th {\n",
       "        text-align: right;\n",
       "    }\n",
       "</style>\n",
       "<table border=\"1\" class=\"dataframe\">\n",
       "  <thead>\n",
       "    <tr style=\"text-align: right;\">\n",
       "      <th></th>\n",
       "      <th>name</th>\n",
       "      <th>flow_reduction_pct</th>\n",
       "    </tr>\n",
       "  </thead>\n",
       "  <tbody>\n",
       "    <tr>\n",
       "      <th>0</th>\n",
       "      <td>Koshi</td>\n",
       "      <td>9.090909</td>\n",
       "    </tr>\n",
       "    <tr>\n",
       "      <th>1</th>\n",
       "      <td>Gandaki</td>\n",
       "      <td>8.333333</td>\n",
       "    </tr>\n",
       "    <tr>\n",
       "      <th>2</th>\n",
       "      <td>Karnali</td>\n",
       "      <td>12.500000</td>\n",
       "    </tr>\n",
       "    <tr>\n",
       "      <th>3</th>\n",
       "      <td>Mahakali</td>\n",
       "      <td>12.500000</td>\n",
       "    </tr>\n",
       "  </tbody>\n",
       "</table>\n",
       "</div>"
      ],
      "text/plain": [
       "       name  flow_reduction_pct\n",
       "0     Koshi            9.090909\n",
       "1   Gandaki            8.333333\n",
       "2   Karnali           12.500000\n",
       "3  Mahakali           12.500000"
      ]
     },
     "execution_count": 48,
     "metadata": {},
     "output_type": "execute_result"
    }
   ],
   "source": [
    "# Load river data\n",
    "rivers = gpd.read_file(\"nepal_climate_data/nepal_rivers.gpkg\")\n",
    "rivers[['name', 'flow_reduction_pct']].head()"
   ]
  },
  {
   "cell_type": "markdown",
   "metadata": {},
   "source": [
    "## 8. Glacier Retreat Analysis\n",
    "We examine projected glacier retreat rates for 2020 and 2050."
   ]
  },
  {
   "cell_type": "code",
   "execution_count": 49,
   "metadata": {},
   "outputs": [
    {
     "data": {
      "text/html": [
       "<div>\n",
       "<style scoped>\n",
       "    .dataframe tbody tr th:only-of-type {\n",
       "        vertical-align: middle;\n",
       "    }\n",
       "\n",
       "    .dataframe tbody tr th {\n",
       "        vertical-align: top;\n",
       "    }\n",
       "\n",
       "    .dataframe thead th {\n",
       "        text-align: right;\n",
       "    }\n",
       "</style>\n",
       "<table border=\"1\" class=\"dataframe\">\n",
       "  <thead>\n",
       "    <tr style=\"text-align: right;\">\n",
       "      <th></th>\n",
       "      <th>id</th>\n",
       "      <th>retreat_2020</th>\n",
       "      <th>retreat_2050</th>\n",
       "    </tr>\n",
       "  </thead>\n",
       "  <tbody>\n",
       "    <tr>\n",
       "      <th>0</th>\n",
       "      <td>GL01</td>\n",
       "      <td>11.830574</td>\n",
       "      <td>18.308859</td>\n",
       "    </tr>\n",
       "    <tr>\n",
       "      <th>1</th>\n",
       "      <td>GL02</td>\n",
       "      <td>10.515828</td>\n",
       "      <td>18.451705</td>\n",
       "    </tr>\n",
       "    <tr>\n",
       "      <th>2</th>\n",
       "      <td>GL03</td>\n",
       "      <td>13.881700</td>\n",
       "      <td>22.644677</td>\n",
       "    </tr>\n",
       "    <tr>\n",
       "      <th>3</th>\n",
       "      <td>GL04</td>\n",
       "      <td>14.675666</td>\n",
       "      <td>22.894538</td>\n",
       "    </tr>\n",
       "    <tr>\n",
       "      <th>4</th>\n",
       "      <td>GL05</td>\n",
       "      <td>18.200654</td>\n",
       "      <td>25.343086</td>\n",
       "    </tr>\n",
       "  </tbody>\n",
       "</table>\n",
       "</div>"
      ],
      "text/plain": [
       "     id  retreat_2020  retreat_2050\n",
       "0  GL01     11.830574     18.308859\n",
       "1  GL02     10.515828     18.451705\n",
       "2  GL03     13.881700     22.644677\n",
       "3  GL04     14.675666     22.894538\n",
       "4  GL05     18.200654     25.343086"
      ]
     },
     "execution_count": 49,
     "metadata": {},
     "output_type": "execute_result"
    }
   ],
   "source": [
    "# Load glacier data\n",
    "glaciers = gpd.read_file(\"nepal_climate_data/nepal_glaciers.gpkg\")\n",
    "glaciers[['id', 'retreat_2020', 'retreat_2050']].head()"
   ]
  },
  {
   "cell_type": "markdown",
   "metadata": {},
   "source": [
    "## 9. Conclusion\n",
    "This analysis highlights significant projected climate changes in Nepal, including:\n",
    "- Rising temperatures across all regions\n",
    "- Changes in precipitation patterns, with some areas experiencing increases and others decreases\n",
    "- Reductions in river flows, which could impact agriculture and hydropower\n",
    "- Accelerated glacier retreat, posing risks of glacial lake outbursts\n",
    "\n",
    "**Policy Recommendations:**\n",
    "- Strengthen water resource management strategies\n",
    "- Enhance climate adaptation plans for vulnerable communities\n",
    "- Invest in renewable energy and climate-resilient infrastructure\n"
   ]
  }
 ],
 "metadata": {
  "kernelspec": {
   "display_name": "Python 3",
   "language": "python",
   "name": "python3"
  },
  "language_info": {
   "codemirror_mode": {
    "name": "ipython",
    "version": 3
   },
   "file_extension": ".py",
   "mimetype": "text/x-python",
   "name": "python",
   "nbconvert_exporter": "python",
   "pygments_lexer": "ipython3",
   "version": "3.12.0"
  }
 },
 "nbformat": 4,
 "nbformat_minor": 4
}
